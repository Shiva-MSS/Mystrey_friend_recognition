{
 "cells": [
  {
   "cell_type": "markdown",
   "id": "8869af05",
   "metadata": {},
   "source": [
    "# Mystery Friend"
   ]
  },
  {
   "cell_type": "markdown",
   "id": "362e05f6",
   "metadata": {},
   "source": [
    "You've received an anonymous postcard from a friend who you haven't seen in years. Your friend did not leave a name, but the card is definitely addressed to you. So far, you've narrowed your search down to three friends, based on handwriting:\n",
    "- Emma Goldman\n",
    "- Matthew Henson\n",
    "- TingFang Wu\n",
    "\n",
    "But which one sent you the card?\n",
    "\n",
    "Just like you can classify a message as spam or not spam with a spam filter, you can classify writing as related to one friend or another by building a kind of friend writing classifier. You have past writing from all three friends stored up in the variable `friends_docs`, which means you can use scikit-learn's bag-of-words and Naive Bayes classifier to determine who the mystery friend is!\n",
    "\n",
    "Ready?"
   ]
  },
  {
   "cell_type": "markdown",
   "id": "65f1d856",
   "metadata": {},
   "source": [
    "## Feature Vectors Are in the Bag with Scikit-Learn"
   ]
  },
  {
   "cell_type": "markdown",
   "id": "203a9ff3",
   "metadata": {},
   "source": [
    "1. In the code block below, import `CountVectorizer` from `sklearn.feature_extraction.text`. Below it, import `MultinomialNB` from `sklearn.naive_bayes`."
   ]
  },
  {
   "cell_type": "code",
   "execution_count": 8,
   "id": "3ccbd886",
   "metadata": {},
   "outputs": [],
   "source": [
    "# import sklearn modules here:\n",
    "from sklearn.feature_extraction.text import CountVectorizer\n",
    "from sklearn.naive_bayes import MultinomialNB\n"
   ]
  },
  {
   "cell_type": "markdown",
   "id": "da6a2a00",
   "metadata": {},
   "source": [
    "2. Define `bow_vectorizer` as an implementation of `CountVectorizer`."
   ]
  },
  {
   "cell_type": "code",
   "execution_count": 9,
   "id": "e6d6464f",
   "metadata": {},
   "outputs": [],
   "source": [
    "# Create bow_vectorizer:\n",
    "bow_vectorizer = CountVectorizer()"
   ]
  },
  {
   "cell_type": "markdown",
   "id": "968a39cb",
   "metadata": {},
   "source": [
    "3. Use your newly minted `bow_vectorizer` to both `fit` (train) and `transform` (vectorize) all your friends' writing (stored in the variable `friends_docs`). Save the resulting vector object as `friends_vectors`."
   ]
  },
  {
   "cell_type": "code",
   "execution_count": 15,
   "id": "b1366163",
   "metadata": {},
   "outputs": [
    {
     "name": "stdout",
     "output_type": "stream",
     "text": [
      "Requirement already satisfied: import_ipynb in c:\\users\\91970\\anaconda3\\lib\\site-packages (0.1.4)\n",
      "Requirement already satisfied: nbformat in c:\\users\\91970\\anaconda3\\lib\\site-packages (from import_ipynb) (5.3.0)\n",
      "Requirement already satisfied: IPython in c:\\users\\91970\\anaconda3\\lib\\site-packages (from import_ipynb) (8.2.0)\n",
      "Requirement already satisfied: jedi>=0.16 in c:\\users\\91970\\anaconda3\\lib\\site-packages (from IPython->import_ipynb) (0.18.1)\n",
      "Requirement already satisfied: stack-data in c:\\users\\91970\\anaconda3\\lib\\site-packages (from IPython->import_ipynb) (0.2.0)\n",
      "Requirement already satisfied: pickleshare in c:\\users\\91970\\anaconda3\\lib\\site-packages (from IPython->import_ipynb) (0.7.5)\n",
      "Requirement already satisfied: traitlets>=5 in c:\\users\\91970\\anaconda3\\lib\\site-packages (from IPython->import_ipynb) (5.1.1)\n",
      "Requirement already satisfied: matplotlib-inline in c:\\users\\91970\\anaconda3\\lib\\site-packages (from IPython->import_ipynb) (0.1.2)\n",
      "Requirement already satisfied: decorator in c:\\users\\91970\\anaconda3\\lib\\site-packages (from IPython->import_ipynb) (5.1.1)\n",
      "Requirement already satisfied: prompt-toolkit!=3.0.0,!=3.0.1,<3.1.0,>=2.0.0 in c:\\users\\91970\\anaconda3\\lib\\site-packages (from IPython->import_ipynb) (3.0.20)\n",
      "Requirement already satisfied: setuptools>=18.5 in c:\\users\\91970\\anaconda3\\lib\\site-packages (from IPython->import_ipynb) (61.2.0)\n",
      "Requirement already satisfied: colorama in c:\\users\\91970\\anaconda3\\lib\\site-packages (from IPython->import_ipynb) (0.4.4)\n",
      "Requirement already satisfied: pygments>=2.4.0 in c:\\users\\91970\\anaconda3\\lib\\site-packages (from IPython->import_ipynb) (2.11.2)\n",
      "Requirement already satisfied: backcall in c:\\users\\91970\\anaconda3\\lib\\site-packages (from IPython->import_ipynb) (0.2.0)\n",
      "Requirement already satisfied: parso<0.9.0,>=0.8.0 in c:\\users\\91970\\anaconda3\\lib\\site-packages (from jedi>=0.16->IPython->import_ipynb) (0.8.3)\n",
      "Requirement already satisfied: wcwidth in c:\\users\\91970\\anaconda3\\lib\\site-packages (from prompt-toolkit!=3.0.0,!=3.0.1,<3.1.0,>=2.0.0->IPython->import_ipynb) (0.2.5)\n",
      "Requirement already satisfied: fastjsonschema in c:\\users\\91970\\anaconda3\\lib\\site-packages (from nbformat->import_ipynb) (2.15.1)\n",
      "Requirement already satisfied: jupyter-core in c:\\users\\91970\\anaconda3\\lib\\site-packages (from nbformat->import_ipynb) (4.9.2)\n",
      "Requirement already satisfied: jsonschema>=2.6 in c:\\users\\91970\\anaconda3\\lib\\site-packages (from nbformat->import_ipynb) (4.4.0)\n",
      "Requirement already satisfied: pyrsistent!=0.17.0,!=0.17.1,!=0.17.2,>=0.14.0 in c:\\users\\91970\\anaconda3\\lib\\site-packages (from jsonschema>=2.6->nbformat->import_ipynb) (0.18.0)\n",
      "Requirement already satisfied: attrs>=17.4.0 in c:\\users\\91970\\anaconda3\\lib\\site-packages (from jsonschema>=2.6->nbformat->import_ipynb) (21.4.0)\n",
      "Requirement already satisfied: pywin32>=1.0 in c:\\users\\91970\\anaconda3\\lib\\site-packages (from jupyter-core->nbformat->import_ipynb) (302)\n",
      "Requirement already satisfied: asttokens in c:\\users\\91970\\anaconda3\\lib\\site-packages (from stack-data->IPython->import_ipynb) (2.0.5)\n",
      "Requirement already satisfied: executing in c:\\users\\91970\\anaconda3\\lib\\site-packages (from stack-data->IPython->import_ipynb) (0.8.3)\n",
      "Requirement already satisfied: pure-eval in c:\\users\\91970\\anaconda3\\lib\\site-packages (from stack-data->IPython->import_ipynb) (0.2.2)\n",
      "Requirement already satisfied: six in c:\\users\\91970\\anaconda3\\lib\\site-packages (from asttokens->stack-data->IPython->import_ipynb) (1.16.0)\n"
     ]
    }
   ],
   "source": [
    "!pip install import_ipynb\n",
    "\n",
    "import import_ipynb\n",
    "\n",
    "from goldman_emma_raw import goldman_docs\n",
    "from henson_matthew_raw import henson_docs\n",
    "from wu_tingfang_raw import wu_docs\n",
    "\n",
    "friends_docs = goldman_docs + henson_docs + wu_docs\n",
    "\n",
    "# Define friends_vectors:\n",
    "friends_vectors = bow_vectorizer.fit_transform(friends_docs)"
   ]
  },
  {
   "cell_type": "markdown",
   "id": "21578a5d",
   "metadata": {},
   "source": [
    "4. Create a new variable `mystery_vector`. Assign to it the vectorized form of `[mystery_postcard]` using the vectorizer's `.transform()` method.\n",
    "\n",
    "   (`mystery_postcard` is a string, while the vectorizer expects a list as an argument.)"
   ]
  },
  {
   "cell_type": "code",
   "execution_count": 16,
   "id": "9d7dc322",
   "metadata": {},
   "outputs": [],
   "source": [
    "mystery_postcard = \"\"\"\n",
    "My friend,\n",
    "From the 10th of July to the 13th, a fierce storm raged, clouds of\n",
    "freeing spray broke over the ship, incasing her in a coat of icy mail,\n",
    "and the tempest forced all of the ice out of the lower end of the\n",
    "channel and beyond as far as the eye could see, but the _Roosevelt_\n",
    "still remained surrounded by ice.\n",
    "Hope to see you soon.\n",
    "\"\"\"\n",
    "\n",
    "# Define mystery_vector:\n",
    "mystery_vector = bow_vectorizer.transform([mystery_postcard])\n"
   ]
  },
  {
   "cell_type": "markdown",
   "id": "4cdc6963",
   "metadata": {},
   "source": [
    "## This Mystery Friend Gets Classified"
   ]
  },
  {
   "cell_type": "markdown",
   "id": "f47ac51e",
   "metadata": {},
   "source": [
    "5. You've vectorized and prepared all the documents. Let's take a look at your friends' writing samples to get a sense of how they write.\n",
    "\n",
    "   Print out one document of each friend's writing - try any one between `0` and `140`. (Your friends' documents are stored in `goldman_docs`, `henson_docs`, and `wu_docs`.)"
   ]
  },
  {
   "cell_type": "code",
   "execution_count": 17,
   "id": "7ca6fdb0",
   "metadata": {},
   "outputs": [
    {
     "name": "stdout",
     "output_type": "stream",
     "text": [
      " All the\n",
      "early sagas rest on that idea, which continues to be the LEIT-MOTIF\n",
      "of the biblical tales dealing with the relation of man to God, to the\n",
      "State, to society\n",
      "Eivind Astrp, of\n",
      "Christiania, Norway, who had the honor of being the companion of\n",
      "Commander Peary in the first crossing of North Greenland--and of having\n",
      "an Esquimo at Cape York become so fond of him that he named his son for\n",
      "him! It was on this voyage north that Peary's leg was broken.\n",
      "\n",
      "Mr\n",
      " The Sovereign of Great Britain\n",
      "appoints only the Governor General who acts in his name, but the\n",
      "Dominion is governed by a responsible Ministry, and all domestic\n",
      "affairs are managed by local officials, without interference from the\n",
      "Home Government\n"
     ]
    }
   ],
   "source": [
    "# Print out a document from each friend:\n",
    "\n",
    "\n",
    "print(goldman_docs[20])\n",
    "print(henson_docs[25])\n",
    "print(wu_docs[45])"
   ]
  },
  {
   "cell_type": "markdown",
   "id": "61585924",
   "metadata": {},
   "source": [
    "6. Have an inkling about which friend wrote the mystery card? We can use a classifier to confirm those suspicions...\n",
    "\n",
    "   Implement a Naive Bayes classifier using `MultinomialNB`. Save the result to `friends_classifier`."
   ]
  },
  {
   "cell_type": "code",
   "execution_count": 18,
   "id": "94d04847",
   "metadata": {},
   "outputs": [],
   "source": [
    "# Define friends_classifier:\n",
    "friends_classifier = MultinomialNB()"
   ]
  },
  {
   "cell_type": "markdown",
   "id": "5c592f14",
   "metadata": {},
   "source": [
    "7. Train `friends_classifier` on `friends_vectors` and `friends_labels` using the classifier's `.fit()` method."
   ]
  },
  {
   "cell_type": "code",
   "execution_count": 19,
   "id": "ab331e8b",
   "metadata": {},
   "outputs": [
    {
     "data": {
      "text/plain": [
       "MultinomialNB()"
      ]
     },
     "execution_count": 19,
     "metadata": {},
     "output_type": "execute_result"
    }
   ],
   "source": [
    "friends_labels = [\"Emma\"] * 154 + [\"Matthew\"] * 141 + [\"Tingfang\"] * 166\n",
    "\n",
    "# Train the classifier:\n",
    "friends_classifier.fit(friends_vectors, friends_labels)\n"
   ]
  },
  {
   "cell_type": "markdown",
   "id": "40993688",
   "metadata": {},
   "source": [
    "8. Change `predictions` value from `[\"None Yet\"]` to the classifier's prediction about which friend wrote the postcard. You can do this by calling the classifier's `predict()` method on the `mystery_vector`."
   ]
  },
  {
   "cell_type": "code",
   "execution_count": 20,
   "id": "69dffb15",
   "metadata": {},
   "outputs": [],
   "source": [
    "# Change predictions:\n",
    "predictions = friends_classifier.predict(mystery_vector)\n"
   ]
  },
  {
   "cell_type": "markdown",
   "id": "d93957d7",
   "metadata": {},
   "source": [
    "## Mystery Revealed!"
   ]
  },
  {
   "cell_type": "markdown",
   "id": "807d3b26",
   "metadata": {},
   "source": [
    "9. Uncomment the final print statement and run the code block below to see who your mystery friend was all along!"
   ]
  },
  {
   "cell_type": "code",
   "execution_count": 21,
   "id": "714701ec",
   "metadata": {},
   "outputs": [
    {
     "name": "stdout",
     "output_type": "stream",
     "text": [
      "The postcard was from Matthew!\n"
     ]
    }
   ],
   "source": [
    "mystery_friend = predictions[0] if predictions[0] else \"someone else\"\n",
    "\n",
    "# Uncomment the print statement:\n",
    "print(\"The postcard was from {}!\".format(mystery_friend))"
   ]
  },
  {
   "cell_type": "markdown",
   "id": "e0d26a4b",
   "metadata": {},
   "source": [
    "10. But does it really work? Find some lines by Emma Goldman, Matthew Henson, and TingFang Wu on <a href=\"http://www.gutenberg.org\" target=\"_blank\">gutenberg.org</a> and save them to `mystery_postcard` to see how the classifier holds up!\n",
    "\n",
    "    Try using the `.predict_proba()` method instead of `.predict()` and print out `predictions` to see the estimated probabilities that the `mystery_postcard` was written by each person.\n",
    "   \n",
    "    What happens when you add in a recent email or text instead?"
   ]
  },
  {
   "cell_type": "code",
   "execution_count": 22,
   "id": "f93572ad",
   "metadata": {},
   "outputs": [
    {
     "name": "stdout",
     "output_type": "stream",
     "text": [
      "[[1.00000000e+00 2.83485427e-40 3.34556633e-29]]\n"
     ]
    }
   ],
   "source": [
    "Mystery_Emma = \"Free love? As if love is anything but free! Man has bought brains, but all the millions in the world have failed to buy love. Man has subdued bodies, but all the power on earth has been unable to subdue love. Man has conquered whole nations, but all his armies could not conquer love. Man has chained and fettered the spirit, but he has been utterly helpless before love. High on a throne, with all the splendor and pomp his gold can command, man is yet poor and desolate, if love passes him by. And if it stays, the poorest hovel is radiant with warmth, with life and color. Thus love has the magic power to make of a beggar a king. Yes, love is free; it can dwell in no other atmosphere. In freedom it gives itself unreservedly, abundantly, completely. All the laws on the statutes, all the courts in the universe, cannot tear it from the soil, once love has taken root. If, however, the soil is sterile, how can marriage make it bear fruit? It is like the last desperate struggle of fleeting life against death.\"\n",
    "Mystery_Emma_vector = bow_vectorizer.transform([Mystery_Emma])\n",
    "pred_2 = friends_classifier.predict_proba(Mystery_Emma_vector)\n",
    "print(pred_2)"
   ]
  },
  {
   "cell_type": "code",
   "execution_count": 24,
   "id": "93dd91fb",
   "metadata": {},
   "outputs": [
    {
     "name": "stdout",
     "output_type": "stream",
     "text": [
      "['Matthew']\n"
     ]
    }
   ],
   "source": [
    "mystery_email = \"\"\"\"Dear Investor,\n",
    "\n",
    "As you all are aware, SEBI along with all MIIs had celebrated the globally celebrated IOSCO World Investor Week 2022 (#IOSCOWIW2022) in India from Oct 10-16, 2022.\n",
    "\n",
    "BSE Investors Protection Fund had also participated in WIW 2022 with slew of programs.\n",
    "\n",
    "One of our initiative was to share specially created videos on the occasion of WIW 2022 with investors which will help in enhancing knowledge about the Securities Market.\n",
    "\n",
    "We are sharing these videos periodically starting with first Investor Awareness Video shared during WIW 2022.\n",
    "\n",
    "Please find herewith a video on the topic – Start Investing Early\n",
    "\n",
    "Link for the Video is : https://youtu.be/Df1wbUiuOZ8\n",
    "\n",
    "Hope the above will add value to your knowledge.\n",
    "\n",
    "Regards\n",
    "\n",
    "BSE Investors Protection Fund\"\"\"\n",
    "mystery_email_vector = bow_vectorizer.transform([mystery_email])\n",
    "pred_3 = friends_classifier.predict(mystery_email_vector)\n",
    "print(pred_3)"
   ]
  }
 ],
 "metadata": {
  "kernelspec": {
   "display_name": "Python 3 (ipykernel)",
   "language": "python",
   "name": "python3"
  },
  "language_info": {
   "codemirror_mode": {
    "name": "ipython",
    "version": 3
   },
   "file_extension": ".py",
   "mimetype": "text/x-python",
   "name": "python",
   "nbconvert_exporter": "python",
   "pygments_lexer": "ipython3",
   "version": "3.9.12"
  }
 },
 "nbformat": 4,
 "nbformat_minor": 5
}
